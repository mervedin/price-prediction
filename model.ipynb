{
 "cells": [
  {
   "cell_type": "markdown",
   "metadata": {},
   "source": [
    "## Price Prediction"
   ]
  },
  {
   "cell_type": "code",
   "execution_count": 1,
   "metadata": {},
   "outputs": [],
   "source": [
    "import numpy as np\n",
    "import pandas as pd\n",
    "import matplotlib.pyplot as plt\n",
    "import seaborn as sns\n",
    "import warnings\n",
    "\n",
    "warnings.filterwarnings(\"ignore\")\n",
    "np.random.seed(42)"
   ]
  },
  {
   "cell_type": "code",
   "execution_count": 2,
   "metadata": {},
   "outputs": [],
   "source": [
    "from sklearn.preprocessing import StandardScaler, MinMaxScaler\n",
    "from sklearn.metrics import classification_report, confusion_matrix\n",
    "from sklearn.model_selection import cross_val_score\n",
    "from sklearn.linear_model import LogisticRegression\n",
    "from sklearn.svm import SVC\n",
    "from sklearn.neural_network import MLPClassifier\n",
    "from sklearn.ensemble import RandomForestClassifier\n",
    "from sklearn.naive_bayes import MultinomialNB, CategoricalNB\n",
    "from lightgbm import LGBMClassifier"
   ]
  },
  {
   "cell_type": "code",
   "execution_count": 3,
   "metadata": {},
   "outputs": [
    {
     "data": {
      "text/html": [
       "<div>\n",
       "<style scoped>\n",
       "    .dataframe tbody tr th:only-of-type {\n",
       "        vertical-align: middle;\n",
       "    }\n",
       "\n",
       "    .dataframe tbody tr th {\n",
       "        vertical-align: top;\n",
       "    }\n",
       "\n",
       "    .dataframe thead th {\n",
       "        text-align: right;\n",
       "    }\n",
       "</style>\n",
       "<table border=\"1\" class=\"dataframe\">\n",
       "  <thead>\n",
       "    <tr style=\"text-align: right;\">\n",
       "      <th></th>\n",
       "      <th>BataryaGucu</th>\n",
       "      <th>Bluetooth</th>\n",
       "      <th>MikroislemciHizi</th>\n",
       "      <th>CiftHat</th>\n",
       "      <th>OnKameraMP</th>\n",
       "      <th>4G</th>\n",
       "      <th>DahiliBellek</th>\n",
       "      <th>Kalinlik</th>\n",
       "      <th>Agirlik</th>\n",
       "      <th>CekirdekSayisi</th>\n",
       "      <th>ArkaKameraMP</th>\n",
       "      <th>CozunurlukYükseklik</th>\n",
       "      <th>CozunurlukGenislik</th>\n",
       "      <th>RAM</th>\n",
       "      <th>BataryaOmru</th>\n",
       "      <th>3G</th>\n",
       "      <th>Dokunmatik</th>\n",
       "      <th>WiFi</th>\n",
       "      <th>FiyatAraligi</th>\n",
       "      <th>Renk</th>\n",
       "    </tr>\n",
       "  </thead>\n",
       "  <tbody>\n",
       "    <tr>\n",
       "      <th>0</th>\n",
       "      <td>1325</td>\n",
       "      <td>Yok</td>\n",
       "      <td>1,9</td>\n",
       "      <td>Yok</td>\n",
       "      <td>2,0</td>\n",
       "      <td>Yok</td>\n",
       "      <td>50</td>\n",
       "      <td>0,1</td>\n",
       "      <td>146</td>\n",
       "      <td>1</td>\n",
       "      <td>10</td>\n",
       "      <td>499</td>\n",
       "      <td>695</td>\n",
       "      <td>2328.0</td>\n",
       "      <td>2</td>\n",
       "      <td>Var</td>\n",
       "      <td>Yok</td>\n",
       "      <td>Yok</td>\n",
       "      <td>Normal</td>\n",
       "      <td>Beyaz</td>\n",
       "    </tr>\n",
       "    <tr>\n",
       "      <th>1</th>\n",
       "      <td>1046</td>\n",
       "      <td>Var</td>\n",
       "      <td>2,8</td>\n",
       "      <td>Var</td>\n",
       "      <td>0.0</td>\n",
       "      <td>Var</td>\n",
       "      <td>58</td>\n",
       "      <td>0,2</td>\n",
       "      <td>100</td>\n",
       "      <td>8</td>\n",
       "      <td>0</td>\n",
       "      <td>259</td>\n",
       "      <td>1040</td>\n",
       "      <td>3863.0</td>\n",
       "      <td>9</td>\n",
       "      <td>Var</td>\n",
       "      <td>Var</td>\n",
       "      <td>Var</td>\n",
       "      <td>Pahalı</td>\n",
       "      <td>Pembe</td>\n",
       "    </tr>\n",
       "    <tr>\n",
       "      <th>2</th>\n",
       "      <td>843</td>\n",
       "      <td>Yok</td>\n",
       "      <td>1,3</td>\n",
       "      <td>Var</td>\n",
       "      <td>1.0</td>\n",
       "      <td>Yok</td>\n",
       "      <td>16</td>\n",
       "      <td>0,9</td>\n",
       "      <td>119</td>\n",
       "      <td>7</td>\n",
       "      <td>4</td>\n",
       "      <td>593</td>\n",
       "      <td>732</td>\n",
       "      <td>1734.0</td>\n",
       "      <td>14</td>\n",
       "      <td>Yok</td>\n",
       "      <td>Yok</td>\n",
       "      <td>Var</td>\n",
       "      <td>Ucuz</td>\n",
       "      <td>Mor</td>\n",
       "    </tr>\n",
       "    <tr>\n",
       "      <th>3</th>\n",
       "      <td>894</td>\n",
       "      <td>Yok</td>\n",
       "      <td>0,5</td>\n",
       "      <td>Var</td>\n",
       "      <td>1,0</td>\n",
       "      <td>Var</td>\n",
       "      <td>50</td>\n",
       "      <td>0,5</td>\n",
       "      <td>199</td>\n",
       "      <td>3</td>\n",
       "      <td>14</td>\n",
       "      <td>1285</td>\n",
       "      <td>1462</td>\n",
       "      <td>3615.0</td>\n",
       "      <td>6</td>\n",
       "      <td>Var</td>\n",
       "      <td>Yok</td>\n",
       "      <td>Var</td>\n",
       "      <td>Pahalı</td>\n",
       "      <td>Turuncu</td>\n",
       "    </tr>\n",
       "    <tr>\n",
       "      <th>4</th>\n",
       "      <td>936</td>\n",
       "      <td>Yok</td>\n",
       "      <td>1,0</td>\n",
       "      <td>Yok</td>\n",
       "      <td>1.0</td>\n",
       "      <td>Yok</td>\n",
       "      <td>18</td>\n",
       "      <td>0,2</td>\n",
       "      <td>153</td>\n",
       "      <td>3</td>\n",
       "      <td>18</td>\n",
       "      <td>1330</td>\n",
       "      <td>1686</td>\n",
       "      <td>2391.0</td>\n",
       "      <td>3</td>\n",
       "      <td>Var</td>\n",
       "      <td>Var</td>\n",
       "      <td>Var</td>\n",
       "      <td>Normal</td>\n",
       "      <td>Beyaz</td>\n",
       "    </tr>\n",
       "  </tbody>\n",
       "</table>\n",
       "</div>"
      ],
      "text/plain": [
       "   BataryaGucu Bluetooth MikroislemciHizi CiftHat OnKameraMP   4G  \\\n",
       "0         1325       Yok              1,9     Yok        2,0  Yok   \n",
       "1         1046       Var              2,8     Var        0.0  Var   \n",
       "2          843       Yok              1,3     Var        1.0  Yok   \n",
       "3          894       Yok              0,5     Var        1,0  Var   \n",
       "4          936       Yok              1,0     Yok        1.0  Yok   \n",
       "\n",
       "   DahiliBellek Kalinlik  Agirlik  CekirdekSayisi  ArkaKameraMP  \\\n",
       "0            50      0,1      146               1            10   \n",
       "1            58      0,2      100               8             0   \n",
       "2            16      0,9      119               7             4   \n",
       "3            50      0,5      199               3            14   \n",
       "4            18      0,2      153               3            18   \n",
       "\n",
       "   CozunurlukYükseklik  CozunurlukGenislik     RAM  BataryaOmru   3G  \\\n",
       "0                  499                 695  2328.0            2  Var   \n",
       "1                  259                1040  3863.0            9  Var   \n",
       "2                  593                 732  1734.0           14  Yok   \n",
       "3                 1285                1462  3615.0            6  Var   \n",
       "4                 1330                1686  2391.0            3  Var   \n",
       "\n",
       "  Dokunmatik WiFi FiyatAraligi     Renk  \n",
       "0        Yok  Yok       Normal    Beyaz  \n",
       "1        Var  Var       Pahalı    Pembe  \n",
       "2        Yok  Var         Ucuz      Mor  \n",
       "3        Yok  Var       Pahalı  Turuncu  \n",
       "4        Var  Var       Normal    Beyaz  "
      ]
     },
     "execution_count": 3,
     "metadata": {},
     "output_type": "execute_result"
    }
   ],
   "source": [
    "df = pd.read_csv(\"mobil_data.csv\")\n",
    "df.head()"
   ]
  },
  {
   "cell_type": "code",
   "execution_count": 4,
   "metadata": {},
   "outputs": [
    {
     "data": {
      "text/plain": [
       "(2017, 20)"
      ]
     },
     "execution_count": 4,
     "metadata": {},
     "output_type": "execute_result"
    }
   ],
   "source": [
    "df.shape"
   ]
  },
  {
   "cell_type": "markdown",
   "metadata": {},
   "source": [
    "## Preprocessing"
   ]
  },
  {
   "cell_type": "code",
   "execution_count": 5,
   "metadata": {},
   "outputs": [],
   "source": [
    "#fill the missing values with most frequent value for that feature\n",
    "for feat in [\"OnKameraMP\", \"RAM\", \"3G\"]:\n",
    "    df[feat] = df[feat].fillna(df[feat].mode()[0])"
   ]
  },
  {
   "cell_type": "code",
   "execution_count": 6,
   "metadata": {},
   "outputs": [],
   "source": [
    "# replace \",\" with \".\" \n",
    "for feat in [\"MikroislemciHizi\", \"OnKameraMP\", \"Kalinlik\"]:\n",
    "    df[feat] = df[feat].apply(lambda x: str(x).replace(\",\", \".\"))"
   ]
  },
  {
   "cell_type": "code",
   "execution_count": 7,
   "metadata": {},
   "outputs": [],
   "source": [
    "#df.info()"
   ]
  },
  {
   "cell_type": "code",
   "execution_count": 8,
   "metadata": {},
   "outputs": [],
   "source": [
    "#convert the features object to numeric\n",
    "for feat in [\"MikroislemciHizi\", \"OnKameraMP\", \"Kalinlik\"]:\n",
    "    df[feat] = pd.to_numeric(df[feat])"
   ]
  },
  {
   "cell_type": "code",
   "execution_count": 9,
   "metadata": {},
   "outputs": [],
   "source": [
    "df[\"Bluetooth\"] = df[\"Bluetooth\"].replace({\" \": \"Yok\"})"
   ]
  },
  {
   "cell_type": "code",
   "execution_count": 10,
   "metadata": {},
   "outputs": [],
   "source": [
    "numeric_feats = df.select_dtypes(np.number).columns"
   ]
  },
  {
   "cell_type": "code",
   "execution_count": 11,
   "metadata": {},
   "outputs": [
    {
     "name": "stdout",
     "output_type": "stream",
     "text": [
      "13 number of examples were dropped and new shape (2004, 20)\n"
     ]
    }
   ],
   "source": [
    "from scipy.stats import zscore\n",
    "\n",
    "mask_outliers = (abs(zscore(df[numeric_feats])) < 3).all(axis=1)\n",
    "\n",
    "before_num = df.shape[0]\n",
    "df = df[mask_outliers]\n",
    "print(\"{} number of examples were dropped and new shape {}\".format(before_num - df.shape[0], df.shape))"
   ]
  },
  {
   "cell_type": "code",
   "execution_count": 12,
   "metadata": {},
   "outputs": [],
   "source": [
    "# convert nominal values to numeric using get_dummies method\n",
    "df = pd.get_dummies(df, drop_first=True,\n",
    "               columns=['Bluetooth', 'CiftHat', '4G', '3G', 'Dokunmatik', 'WiFi', 'Renk'])"
   ]
  },
  {
   "cell_type": "code",
   "execution_count": 13,
   "metadata": {},
   "outputs": [
    {
     "data": {
      "text/plain": [
       "array(['Normal', 'Pahalı', 'Ucuz', 'Çok Ucuz'], dtype=object)"
      ]
     },
     "execution_count": 13,
     "metadata": {},
     "output_type": "execute_result"
    }
   ],
   "source": [
    "df.FiyatAraligi.unique()"
   ]
  },
  {
   "cell_type": "code",
   "execution_count": 14,
   "metadata": {},
   "outputs": [],
   "source": [
    "# the FiyatAraligi feature is an ordinal variable so I decided to convert it to numeric manually\n",
    "target_labels = {\"Çok Ucuz\": 0, \"Ucuz\": 1, \"Normal\": 2, \"Pahalı\": 3}\n",
    "\n",
    "df[\"FiyatAraligi\"] = df[\"FiyatAraligi\"].replace(target_labels)"
   ]
  },
  {
   "cell_type": "code",
   "execution_count": 15,
   "metadata": {},
   "outputs": [],
   "source": [
    "#new feature\n",
    "df[\"Cozunurluk\"] = df[\"CozunurlukYükseklik\"] * df[\"CozunurlukGenislik\"]"
   ]
  },
  {
   "cell_type": "markdown",
   "metadata": {},
   "source": [
    "There are not lots of features to do feature engineering. One of the most important features is the brand of a phone and the dataset does not contain that information. Instead of investing time to perform feature engineering, collecting data with the brand name would be more promising. If it is not possible to get access to the brand name(or any other business reasons to not use that feature), collecting more data and giving that data into a neural network would do the feature engineering job for us. For that dataset, I wouldn't prefer to do any of them because it is a toy dataset and the result of the classification is already good."
   ]
  },
  {
   "cell_type": "code",
   "execution_count": 16,
   "metadata": {},
   "outputs": [],
   "source": [
    "X = df.drop([\"FiyatAraligi\"], axis=1)\n",
    "y = df[\"FiyatAraligi\"]"
   ]
  },
  {
   "cell_type": "code",
   "execution_count": 17,
   "metadata": {},
   "outputs": [],
   "source": [
    "from sklearn.model_selection import train_test_split\n",
    "\n",
    "X_train, X_test, y_train, y_test = train_test_split(X, y, test_size=0.2, random_state=42)"
   ]
  },
  {
   "cell_type": "code",
   "execution_count": 18,
   "metadata": {},
   "outputs": [
    {
     "name": "stdout",
     "output_type": "stream",
     "text": [
      "(1603, 30) (401, 30)\n"
     ]
    }
   ],
   "source": [
    "print(X_train.shape, X_test.shape)"
   ]
  },
  {
   "cell_type": "code",
   "execution_count": 19,
   "metadata": {},
   "outputs": [],
   "source": [
    "#I  chose to use MinMaxScaler because of the binary features\n",
    "scaler = MinMaxScaler()\n",
    "X_train = scaler.fit_transform(X_train)\n",
    "X_test = scaler.transform(X_test)\n",
    "\n",
    "X_train = pd.DataFrame(X_train, columns=X.columns)\n",
    "X_test = pd.DataFrame(X_test, columns=X.columns)"
   ]
  },
  {
   "cell_type": "code",
   "execution_count": 20,
   "metadata": {},
   "outputs": [
    {
     "data": {
      "text/html": [
       "<div>\n",
       "<style scoped>\n",
       "    .dataframe tbody tr th:only-of-type {\n",
       "        vertical-align: middle;\n",
       "    }\n",
       "\n",
       "    .dataframe tbody tr th {\n",
       "        vertical-align: top;\n",
       "    }\n",
       "\n",
       "    .dataframe thead th {\n",
       "        text-align: right;\n",
       "    }\n",
       "</style>\n",
       "<table border=\"1\" class=\"dataframe\">\n",
       "  <thead>\n",
       "    <tr style=\"text-align: right;\">\n",
       "      <th></th>\n",
       "      <th>BataryaGucu</th>\n",
       "      <th>MikroislemciHizi</th>\n",
       "      <th>OnKameraMP</th>\n",
       "      <th>DahiliBellek</th>\n",
       "      <th>Kalinlik</th>\n",
       "      <th>Agirlik</th>\n",
       "      <th>CekirdekSayisi</th>\n",
       "      <th>ArkaKameraMP</th>\n",
       "      <th>CozunurlukYükseklik</th>\n",
       "      <th>CozunurlukGenislik</th>\n",
       "      <th>...</th>\n",
       "      <th>Renk_Kırmızı</th>\n",
       "      <th>Renk_Mavi</th>\n",
       "      <th>Renk_Mor</th>\n",
       "      <th>Renk_Pembe</th>\n",
       "      <th>Renk_Sarı</th>\n",
       "      <th>Renk_Siyah</th>\n",
       "      <th>Renk_Turkuaz</th>\n",
       "      <th>Renk_Turuncu</th>\n",
       "      <th>Renk_Yeşil</th>\n",
       "      <th>Cozunurluk</th>\n",
       "    </tr>\n",
       "  </thead>\n",
       "  <tbody>\n",
       "    <tr>\n",
       "      <th>0</th>\n",
       "      <td>0.462258</td>\n",
       "      <td>0.16</td>\n",
       "      <td>0.647059</td>\n",
       "      <td>0.387097</td>\n",
       "      <td>0.444444</td>\n",
       "      <td>0.716667</td>\n",
       "      <td>0.000000</td>\n",
       "      <td>1.0</td>\n",
       "      <td>0.372449</td>\n",
       "      <td>0.820427</td>\n",
       "      <td>...</td>\n",
       "      <td>0.0</td>\n",
       "      <td>0.0</td>\n",
       "      <td>0.0</td>\n",
       "      <td>0.0</td>\n",
       "      <td>0.0</td>\n",
       "      <td>0.0</td>\n",
       "      <td>0.0</td>\n",
       "      <td>0.0</td>\n",
       "      <td>0.0</td>\n",
       "      <td>0.324774</td>\n",
       "    </tr>\n",
       "    <tr>\n",
       "      <th>1</th>\n",
       "      <td>0.525718</td>\n",
       "      <td>0.92</td>\n",
       "      <td>0.882353</td>\n",
       "      <td>0.774194</td>\n",
       "      <td>0.000000</td>\n",
       "      <td>0.341667</td>\n",
       "      <td>0.142857</td>\n",
       "      <td>1.0</td>\n",
       "      <td>0.600510</td>\n",
       "      <td>0.873832</td>\n",
       "      <td>...</td>\n",
       "      <td>0.0</td>\n",
       "      <td>0.0</td>\n",
       "      <td>0.0</td>\n",
       "      <td>0.0</td>\n",
       "      <td>0.0</td>\n",
       "      <td>0.0</td>\n",
       "      <td>0.0</td>\n",
       "      <td>0.0</td>\n",
       "      <td>0.0</td>\n",
       "      <td>0.547871</td>\n",
       "    </tr>\n",
       "    <tr>\n",
       "      <th>2</th>\n",
       "      <td>0.023380</td>\n",
       "      <td>0.76</td>\n",
       "      <td>0.705882</td>\n",
       "      <td>0.016129</td>\n",
       "      <td>0.222222</td>\n",
       "      <td>0.850000</td>\n",
       "      <td>0.857143</td>\n",
       "      <td>0.7</td>\n",
       "      <td>0.707143</td>\n",
       "      <td>0.693591</td>\n",
       "      <td>...</td>\n",
       "      <td>0.0</td>\n",
       "      <td>0.0</td>\n",
       "      <td>0.0</td>\n",
       "      <td>0.0</td>\n",
       "      <td>0.0</td>\n",
       "      <td>1.0</td>\n",
       "      <td>0.0</td>\n",
       "      <td>0.0</td>\n",
       "      <td>0.0</td>\n",
       "      <td>0.548864</td>\n",
       "    </tr>\n",
       "    <tr>\n",
       "      <th>3</th>\n",
       "      <td>0.895792</td>\n",
       "      <td>0.68</td>\n",
       "      <td>0.411765</td>\n",
       "      <td>0.870968</td>\n",
       "      <td>0.333333</td>\n",
       "      <td>0.825000</td>\n",
       "      <td>0.428571</td>\n",
       "      <td>0.5</td>\n",
       "      <td>0.399490</td>\n",
       "      <td>0.485314</td>\n",
       "      <td>...</td>\n",
       "      <td>0.0</td>\n",
       "      <td>0.0</td>\n",
       "      <td>1.0</td>\n",
       "      <td>0.0</td>\n",
       "      <td>0.0</td>\n",
       "      <td>0.0</td>\n",
       "      <td>0.0</td>\n",
       "      <td>0.0</td>\n",
       "      <td>0.0</td>\n",
       "      <td>0.247212</td>\n",
       "    </tr>\n",
       "    <tr>\n",
       "      <th>4</th>\n",
       "      <td>0.764863</td>\n",
       "      <td>0.72</td>\n",
       "      <td>0.470588</td>\n",
       "      <td>0.629032</td>\n",
       "      <td>0.111111</td>\n",
       "      <td>0.875000</td>\n",
       "      <td>0.142857</td>\n",
       "      <td>0.5</td>\n",
       "      <td>0.880102</td>\n",
       "      <td>0.955941</td>\n",
       "      <td>...</td>\n",
       "      <td>0.0</td>\n",
       "      <td>0.0</td>\n",
       "      <td>0.0</td>\n",
       "      <td>0.0</td>\n",
       "      <td>0.0</td>\n",
       "      <td>1.0</td>\n",
       "      <td>0.0</td>\n",
       "      <td>0.0</td>\n",
       "      <td>0.0</td>\n",
       "      <td>0.857550</td>\n",
       "    </tr>\n",
       "  </tbody>\n",
       "</table>\n",
       "<p>5 rows × 30 columns</p>\n",
       "</div>"
      ],
      "text/plain": [
       "   BataryaGucu  MikroislemciHizi  OnKameraMP  DahiliBellek  Kalinlik  \\\n",
       "0     0.462258              0.16    0.647059      0.387097  0.444444   \n",
       "1     0.525718              0.92    0.882353      0.774194  0.000000   \n",
       "2     0.023380              0.76    0.705882      0.016129  0.222222   \n",
       "3     0.895792              0.68    0.411765      0.870968  0.333333   \n",
       "4     0.764863              0.72    0.470588      0.629032  0.111111   \n",
       "\n",
       "    Agirlik  CekirdekSayisi  ArkaKameraMP  CozunurlukYükseklik  \\\n",
       "0  0.716667        0.000000           1.0             0.372449   \n",
       "1  0.341667        0.142857           1.0             0.600510   \n",
       "2  0.850000        0.857143           0.7             0.707143   \n",
       "3  0.825000        0.428571           0.5             0.399490   \n",
       "4  0.875000        0.142857           0.5             0.880102   \n",
       "\n",
       "   CozunurlukGenislik  ...  Renk_Kırmızı  Renk_Mavi  Renk_Mor  Renk_Pembe  \\\n",
       "0            0.820427  ...           0.0        0.0       0.0         0.0   \n",
       "1            0.873832  ...           0.0        0.0       0.0         0.0   \n",
       "2            0.693591  ...           0.0        0.0       0.0         0.0   \n",
       "3            0.485314  ...           0.0        0.0       1.0         0.0   \n",
       "4            0.955941  ...           0.0        0.0       0.0         0.0   \n",
       "\n",
       "   Renk_Sarı  Renk_Siyah  Renk_Turkuaz  Renk_Turuncu  Renk_Yeşil  Cozunurluk  \n",
       "0        0.0         0.0           0.0           0.0         0.0    0.324774  \n",
       "1        0.0         0.0           0.0           0.0         0.0    0.547871  \n",
       "2        0.0         1.0           0.0           0.0         0.0    0.548864  \n",
       "3        0.0         0.0           0.0           0.0         0.0    0.247212  \n",
       "4        0.0         1.0           0.0           0.0         0.0    0.857550  \n",
       "\n",
       "[5 rows x 30 columns]"
      ]
     },
     "execution_count": 20,
     "metadata": {},
     "output_type": "execute_result"
    }
   ],
   "source": [
    "X_train.head()"
   ]
  },
  {
   "cell_type": "markdown",
   "metadata": {},
   "source": [
    "## Model Selection"
   ]
  },
  {
   "cell_type": "code",
   "execution_count": 21,
   "metadata": {},
   "outputs": [],
   "source": [
    "def train_models(models):\n",
    "    scores = {}\n",
    "    all_x = pd.concat([X_train, X_test])\n",
    "    all_y = pd.concat([y_train, y_test])\n",
    "    for model_name, model in models:\n",
    "        score = cross_val_score(model, all_x, all_y)\n",
    "        scores[model_name] = score\n",
    "    scores_df = pd.DataFrame(scores).T\n",
    "    scores_df[\"avg_score\"] = scores_df.mean(axis=1)\n",
    "        \n",
    "    return scores_df"
   ]
  },
  {
   "cell_type": "code",
   "execution_count": 22,
   "metadata": {},
   "outputs": [],
   "source": [
    "model_list = [(\"lr\", LogisticRegression()),\n",
    "              (\"svm\", SVC()),\n",
    "              (\"rf\", RandomForestClassifier()),\n",
    "              (\"nb\", MultinomialNB()),\n",
    "              (\"lgbm\", LGBMClassifier()),\n",
    "              (\"nn\", MLPClassifier([100, 100]))]"
   ]
  },
  {
   "cell_type": "code",
   "execution_count": 23,
   "metadata": {},
   "outputs": [
    {
     "data": {
      "text/html": [
       "<div>\n",
       "<style scoped>\n",
       "    .dataframe tbody tr th:only-of-type {\n",
       "        vertical-align: middle;\n",
       "    }\n",
       "\n",
       "    .dataframe tbody tr th {\n",
       "        vertical-align: top;\n",
       "    }\n",
       "\n",
       "    .dataframe thead th {\n",
       "        text-align: right;\n",
       "    }\n",
       "</style>\n",
       "<table border=\"1\" class=\"dataframe\">\n",
       "  <thead>\n",
       "    <tr style=\"text-align: right;\">\n",
       "      <th></th>\n",
       "      <th>0</th>\n",
       "      <th>1</th>\n",
       "      <th>2</th>\n",
       "      <th>3</th>\n",
       "      <th>4</th>\n",
       "      <th>avg_score</th>\n",
       "    </tr>\n",
       "  </thead>\n",
       "  <tbody>\n",
       "    <tr>\n",
       "      <th>lr</th>\n",
       "      <td>0.872818</td>\n",
       "      <td>0.882793</td>\n",
       "      <td>0.882793</td>\n",
       "      <td>0.902743</td>\n",
       "      <td>0.9100</td>\n",
       "      <td>0.890229</td>\n",
       "    </tr>\n",
       "    <tr>\n",
       "      <th>svm</th>\n",
       "      <td>0.835411</td>\n",
       "      <td>0.830424</td>\n",
       "      <td>0.835411</td>\n",
       "      <td>0.830424</td>\n",
       "      <td>0.8275</td>\n",
       "      <td>0.831834</td>\n",
       "    </tr>\n",
       "    <tr>\n",
       "      <th>rf</th>\n",
       "      <td>0.875312</td>\n",
       "      <td>0.865337</td>\n",
       "      <td>0.875312</td>\n",
       "      <td>0.855362</td>\n",
       "      <td>0.8600</td>\n",
       "      <td>0.866264</td>\n",
       "    </tr>\n",
       "    <tr>\n",
       "      <th>nb</th>\n",
       "      <td>NaN</td>\n",
       "      <td>NaN</td>\n",
       "      <td>NaN</td>\n",
       "      <td>NaN</td>\n",
       "      <td>0.5250</td>\n",
       "      <td>0.525000</td>\n",
       "    </tr>\n",
       "    <tr>\n",
       "      <th>lgbm</th>\n",
       "      <td>0.917706</td>\n",
       "      <td>0.900249</td>\n",
       "      <td>0.932668</td>\n",
       "      <td>0.890274</td>\n",
       "      <td>0.9125</td>\n",
       "      <td>0.910680</td>\n",
       "    </tr>\n",
       "    <tr>\n",
       "      <th>nn</th>\n",
       "      <td>0.882793</td>\n",
       "      <td>0.900249</td>\n",
       "      <td>0.877805</td>\n",
       "      <td>0.900249</td>\n",
       "      <td>0.8850</td>\n",
       "      <td>0.889219</td>\n",
       "    </tr>\n",
       "  </tbody>\n",
       "</table>\n",
       "</div>"
      ],
      "text/plain": [
       "             0         1         2         3       4  avg_score\n",
       "lr    0.872818  0.882793  0.882793  0.902743  0.9100   0.890229\n",
       "svm   0.835411  0.830424  0.835411  0.830424  0.8275   0.831834\n",
       "rf    0.875312  0.865337  0.875312  0.855362  0.8600   0.866264\n",
       "nb         NaN       NaN       NaN       NaN  0.5250   0.525000\n",
       "lgbm  0.917706  0.900249  0.932668  0.890274  0.9125   0.910680\n",
       "nn    0.882793  0.900249  0.877805  0.900249  0.8850   0.889219"
      ]
     },
     "execution_count": 23,
     "metadata": {},
     "output_type": "execute_result"
    }
   ],
   "source": [
    "train_models(model_list)"
   ]
  },
  {
   "cell_type": "markdown",
   "metadata": {},
   "source": [
    "- Logistic Regression -> Linear Model\n",
    "- SVM -> Linear Model\n",
    "- Random Forest -> Tree-based Model  (It can capture Linear/Non-Linear relationships)\n",
    "- Light GBM -> Tree-based Model      (It can capture Linear/Non-Linear relationships)\n",
    "- Naive Bayes -> Probabilistic Model\n",
    "- Multi Layer Perceptron -> Neural Network (It can capture Linear/Non-Linear relationships)"
   ]
  },
  {
   "cell_type": "markdown",
   "metadata": {},
   "source": [
    "I would select a tree-based model in that situation. I usually prefer LGBM becuse it runs faster than other tree-based models."
   ]
  },
  {
   "cell_type": "markdown",
   "metadata": {},
   "source": [
    "## Feature Importance/Selection"
   ]
  },
  {
   "cell_type": "code",
   "execution_count": 24,
   "metadata": {},
   "outputs": [
    {
     "data": {
      "text/plain": [
       "LGBMClassifier()"
      ]
     },
     "execution_count": 24,
     "metadata": {},
     "output_type": "execute_result"
    }
   ],
   "source": [
    "from lightgbm import LGBMClassifier, plot_importance\n",
    "\n",
    "clf = LGBMClassifier()\n",
    "clf.fit(X_train, y_train)"
   ]
  },
  {
   "cell_type": "code",
   "execution_count": 25,
   "metadata": {},
   "outputs": [
    {
     "data": {
      "image/png": "[encoded data removed]",
      "text/plain": [
       "<Figure size 720x504 with 2 Axes>"
      ]
     },
     "metadata": {
      "needs_background": "light"
     },
     "output_type": "display_data"
    }
   ],
   "source": [
    "labels = [\"Çok Ucuz\", \"Ucuz\", \"Normal\", \"Pahalı\"]\n",
    "\n",
    "\n",
    "preds = clf.predict(X_test)\n",
    "\n",
    "plt.figure(figsize=(10, 7))\n",
    "sns.heatmap(confusion_matrix(y_test, preds), \n",
    "            annot=True, cmap=\"Blues\",  fmt=\"d\",\n",
    "            xticklabels=labels, yticklabels=labels);"
   ]
  },
  {
   "cell_type": "code",
   "execution_count": 26,
   "metadata": {},
   "outputs": [
    {
     "name": "stdout",
     "output_type": "stream",
     "text": [
      "              precision    recall  f1-score   support\n",
      "\n",
      "    Çok Ucuz       0.94      0.93      0.93       109\n",
      "        Ucuz       0.83      0.87      0.85        95\n",
      "      Normal       0.89      0.88      0.88        99\n",
      "      Pahalı       0.96      0.93      0.94        98\n",
      "\n",
      "    accuracy                           0.90       401\n",
      "   macro avg       0.90      0.90      0.90       401\n",
      "weighted avg       0.90      0.90      0.90       401\n",
      "\n"
     ]
    }
   ],
   "source": [
    "print(classification_report(y_test, preds, target_names=labels))"
   ]
  },
  {
   "cell_type": "code",
   "execution_count": 27,
   "metadata": {},
   "outputs": [
    {
     "data": {
      "image/png": "[encoded data removed]",
      "text/plain": [
       "<Figure size 720x720 with 1 Axes>"
      ]
     },
     "metadata": {
      "needs_background": "light"
     },
     "output_type": "display_data"
    }
   ],
   "source": [
    "plot_importance(clf, figsize=(10, 10));"
   ]
  },
  {
   "cell_type": "markdown",
   "metadata": {},
   "source": [
    "Using the first 101-15 features  a model can be trained again and if there is no significant performance drop, other features can be dropped. Of course there are more sophisticated methods for features selection but this could be the easiest way to select features."
   ]
  },
  {
   "cell_type": "markdown",
   "metadata": {},
   "source": [
    "The model gives a significant weight to the \"BataryaGucu\", \"Agirlik\", \"BataryaOmru\" and I think these features shouldn't be that much important. If I was building a real project about phone prices, I would drop or penilaze these features."
   ]
  },
  {
   "cell_type": "markdown",
   "metadata": {},
   "source": [
    "## Result"
   ]
  },
  {
   "cell_type": "markdown",
   "metadata": {},
   "source": [
    "I didn't do hyperparameter optimization because I didn't have time enough time. Before all the steps, checking the data collecting process and being sure that the data are correct would be better for this dataset. The dataset does not contain lots of data so training a neural network isn't a good option. It has a good amount of categorical features and tree-based models are good at using categorical features. They are also fast both in training and testing."
   ]
  },
  {
   "cell_type": "code",
   "execution_count": null,
   "metadata": {},
   "outputs": [],
   "source": []
  },
  {
   "cell_type": "code",
   "execution_count": null,
   "metadata": {},
   "outputs": [],
   "source": []
  },
  {
   "cell_type": "code",
   "execution_count": null,
   "metadata": {},
   "outputs": [],
   "source": []
  },
  {
   "cell_type": "code",
   "execution_count": null,
   "metadata": {},
   "outputs": [],
   "source": []
  },
  {
   "cell_type": "code",
   "execution_count": null,
   "metadata": {},
   "outputs": [],
   "source": []
  }
 ],
 "metadata": {
  "kernelspec": {
   "display_name": "dam_rate",
   "language": "python",
   "name": "dam_rate"
  },
  "language_info": {
   "codemirror_mode": {
    "name": "ipython",
    "version": 3
   },
   "file_extension": ".py",
   "mimetype": "text/x-python",
   "name": "python",
   "nbconvert_exporter": "python",
   "pygments_lexer": "ipython3",
   "version": "3.8.5"
  }
 },
 "nbformat": 4,
 "nbformat_minor": 4
}
